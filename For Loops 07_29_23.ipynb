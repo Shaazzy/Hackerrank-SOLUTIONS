{
 "cells": [
  {
   "cell_type": "code",
   "execution_count": 4,
   "id": "7a8c24c4",
   "metadata": {},
   "outputs": [
    {
     "name": "stdout",
     "output_type": "stream",
     "text": [
      "Enter the number:5\n",
      "10\n"
     ]
    }
   ],
   "source": [
    "number= int(input(\"Enter the number:\"))\n",
    "s=0\n",
    "for i in range (number):\n",
    "    s=s+i\n",
    "print(s)\n"
   ]
  },
  {
   "cell_type": "code",
   "execution_count": 17,
   "id": "062b3093",
   "metadata": {},
   "outputs": [
    {
     "name": "stdout",
     "output_type": "stream",
     "text": [
      "0\n",
      "2\n",
      "4\n",
      "6\n",
      "8\n",
      "10\n",
      "12\n",
      "14\n",
      "16\n",
      "18\n"
     ]
    }
   ],
   "source": [
    "for i in range(0,20,2):\n",
    "    print(i)"
   ]
  },
  {
   "cell_type": "code",
   "execution_count": 20,
   "id": "595cd5cc",
   "metadata": {},
   "outputs": [
    {
     "name": "stdout",
     "output_type": "stream",
     "text": [
      "1\n",
      "3\n",
      "5\n",
      "7\n",
      "9\n",
      "11\n",
      "13\n",
      "15\n",
      "17\n",
      "19\n"
     ]
    }
   ],
   "source": [
    "for i in range(1,20,2):\n",
    "    print(i)"
   ]
  },
  {
   "cell_type": "code",
   "execution_count": 22,
   "id": "cc8579c6",
   "metadata": {},
   "outputs": [
    {
     "name": "stdout",
     "output_type": "stream",
     "text": [
      "0\n",
      "1\n",
      "2\n",
      "3\n",
      "4\n",
      "5\n",
      "6\n",
      "7\n",
      "8\n",
      "9\n"
     ]
    }
   ],
   "source": [
    "for i in range(0,10,1):\n",
    "    print(i)"
   ]
  },
  {
   "cell_type": "code",
   "execution_count": 25,
   "id": "d4614c63",
   "metadata": {},
   "outputs": [
    {
     "name": "stdout",
     "output_type": "stream",
     "text": [
      "10 100\n",
      "9 81\n",
      "8 64\n",
      "7 49\n",
      "6 36\n",
      "5 25\n",
      "4 16\n",
      "3 9\n",
      "2 4\n",
      "1 1\n"
     ]
    }
   ],
   "source": [
    "for i in range(10,0,-1):\n",
    "    print(i,i**2)"
   ]
  },
  {
   "cell_type": "code",
   "execution_count": 33,
   "id": "4baa7666",
   "metadata": {},
   "outputs": [
    {
     "name": "stdout",
     "output_type": "stream",
     "text": [
      "Enter th length of the series:9\n",
      "10,20,30,40,50,60,70,80,90,"
     ]
    }
   ],
   "source": [
    "n=int(input(\"Enter th length of the series:\"))\n",
    "for i in range(10,(n+1)*10 ,10):\n",
    "    print(i, end=\",\")"
   ]
  },
  {
   "cell_type": "code",
   "execution_count": 55,
   "id": "ec71622a",
   "metadata": {},
   "outputs": [
    {
     "name": "stdout",
     "output_type": "stream",
     "text": [
      "Enter th length of the series:6\n",
      "10,30,50,70,90,110,"
     ]
    }
   ],
   "source": [
    "n=int(input(\"Enter th length of the series:\"))\n",
    "for i in range(10,(n*20) ,20):\n",
    "    print(i, end=\",\")"
   ]
  },
  {
   "cell_type": "code",
   "execution_count": 60,
   "id": "30bb9813",
   "metadata": {},
   "outputs": [
    {
     "name": "stdout",
     "output_type": "stream",
     "text": [
      "Enter th length of the series:8\n",
      "100,95,90,85,80,75,70,65,"
     ]
    }
   ],
   "source": [
    "n=int(input(\"Enter th length of the series:\"))\n",
    "for i in range(100,100-(n*5) ,-5):\n",
    "    print(i, end=\",\")"
   ]
  },
  {
   "cell_type": "code",
   "execution_count": 12,
   "id": "1b669ec4",
   "metadata": {},
   "outputs": [
    {
     "name": "stdin",
     "output_type": "stream",
     "text": [
      "Eter the number of rows of your pattern: 15\n"
     ]
    },
    {
     "name": "stdout",
     "output_type": "stream",
     "text": [
      "*  \n",
      "* *  \n",
      "* * *  \n",
      "* * * *  \n",
      "* * * * *  \n",
      "* * * * * *  \n",
      "* * * * * * *  \n",
      "* * * * * * * *  \n",
      "* * * * * * * * *  \n",
      "* * * * * * * * * *  \n",
      "* * * * * * * * * * *  \n",
      "* * * * * * * * * * * *  \n",
      "* * * * * * * * * * * * *  \n",
      "* * * * * * * * * * * * * *  \n",
      "* * * * * * * * * * * * * * *  \n"
     ]
    }
   ],
   "source": [
    "n=int(input(\"Eter the number of rows of your pattern:\"))\n",
    "for i in range (0,n):\n",
    "    for j in range(0,i+1):\n",
    "        print(\"*\", end=\" \")\n",
    "        \n",
    "    print(\" \")    \n",
    "    "
   ]
  },
  {
   "cell_type": "code",
   "execution_count": null,
   "id": "2bcd04e4-bf92-4c80-98a0-e27bcf561651",
   "metadata": {},
   "outputs": [],
   "source": [
    "'''\n",
    "1\n",
    "2 2\n",
    "3 3 3\n",
    "4 4 4 4\n",
    "5 5 5 5 5\n",
    "\n",
    "'''"
   ]
  },
  {
   "cell_type": "code",
   "execution_count": 15,
   "id": "0ecfa832-0c99-4068-aa89-a0f5bbcc0568",
   "metadata": {},
   "outputs": [
    {
     "name": "stdout",
     "output_type": "stream",
     "text": [
      "1  \n",
      "2 2  \n",
      "3 3 3  \n",
      "4 4 4 4  \n",
      "5 5 5 5 5  \n"
     ]
    }
   ],
   "source": [
    "\n",
    "for i in range (1,6):\n",
    "    for j in range(1,i+1):\n",
    "        print(i, end=\" \")\n",
    "        \n",
    "    print(\" \")    \n",
    "    "
   ]
  },
  {
   "cell_type": "code",
   "execution_count": null,
   "id": "7b18220a-b3b4-40d3-9478-787ff4aa1b05",
   "metadata": {},
   "outputs": [],
   "source": [
    "'''\n",
    "1\n",
    "1 2\n",
    "1 2 3  \n",
    "1 2 3 4 \n",
    "1 2 3 4 5\n",
    "\n",
    "\n",
    "'''"
   ]
  },
  {
   "cell_type": "code",
   "execution_count": 18,
   "id": "1d55dddb-016d-4678-bbb8-836d95a431ae",
   "metadata": {},
   "outputs": [
    {
     "name": "stdout",
     "output_type": "stream",
     "text": [
      "1 \n",
      "1 2 \n",
      "1 2 3 \n",
      "1 2 3 4 \n",
      "1 2 3 4 5 \n"
     ]
    }
   ],
   "source": [
    "\n",
    "for i in range (1,6):\n",
    "    for j in range(1,i+1):\n",
    "        print(j, end=\" \")\n",
    "        \n",
    "    print()    \n",
    "    "
   ]
  },
  {
   "cell_type": "code",
   "execution_count": null,
   "id": "361ae579-567d-4581-9dad-fb23889dec1b",
   "metadata": {},
   "outputs": [],
   "source": [
    "'''\n",
    "1 1 1 1 1\n",
    "2 2 2 2\n",
    "3 3 3 \n",
    "4 4 \n",
    "5\n",
    "\n",
    "\n",
    "'''"
   ]
  },
  {
   "cell_type": "code",
   "execution_count": 41,
   "id": "dc33abbd-5d2a-49f2-9bd0-e29f65dceb88",
   "metadata": {},
   "outputs": [
    {
     "name": "stdout",
     "output_type": "stream",
     "text": [
      "1 1 1 1 1  \n",
      "2 2 2 2  \n",
      "3 3 3  \n",
      "4 4  \n",
      "5  \n"
     ]
    }
   ],
   "source": [
    "for i in range (1,6):\n",
    "    for j in range(6-i,0, -1):\n",
    "        print(i, end=\" \")\n",
    "    \n",
    "    print(\" \")\n",
    "    "
   ]
  },
  {
   "cell_type": "code",
   "execution_count": 60,
   "id": "8d41dfb2-7c9b-45f2-8c9a-463131c459fc",
   "metadata": {},
   "outputs": [
    {
     "name": "stdout",
     "output_type": "stream",
     "text": [
      "1 1 1 1 1 \n",
      "2 2 2 2 \n",
      "3 3 3 \n",
      "4 4 \n",
      "5 \n"
     ]
    }
   ],
   "source": [
    "for i in range(1, 6):\n",
    "    for j in range(5, i-1,-1):\n",
    "        print(i,end=\" \")\n",
    "    print('')"
   ]
  },
  {
   "cell_type": "code",
   "execution_count": 61,
   "id": "c6c895be-6302-4a61-9b67-6a38e13f8fa3",
   "metadata": {},
   "outputs": [
    {
     "name": "stdout",
     "output_type": "stream",
     "text": [
      "Enter size: 5\n",
      "1 1 1 1 1 \n",
      "2 2 2 2 \n",
      "3 3 3 \n",
      "4 4 \n",
      "5 \n"
     ]
    }
   ],
   "source": [
    "n = int(input(\"Enter size: \"))\n",
    "row = 1\n",
    "for i in range(n, 0, -1):\n",
    "    for j in range(1, i+1):\n",
    "        print(row, end=\" \")\n",
    "    row += 1\n",
    "    print()"
   ]
  },
  {
   "cell_type": "code",
   "execution_count": 61,
   "id": "f3c9b526-7b4c-40e5-bfb7-026643ab3351",
   "metadata": {},
   "outputs": [
    {
     "name": "stdout",
     "output_type": "stream",
     "text": [
      "Enter size: 5\n",
      "1 1 1 1 1 \n",
      "2 2 2 2 \n",
      "3 3 3 \n",
      "4 4 \n",
      "5 \n"
     ]
    }
   ],
   "source": [
    "n = int(input(\"Enter size: \"))\n",
    "row = 1\n",
    "for i in range(n, 0, -1):\n",
    "    for j in range(1, i+1):\n",
    "        print(row, end=\" \")\n",
    "    row += 1\n",
    "    print()"
   ]
  },
  {
   "cell_type": "code",
   "execution_count": 82,
   "id": "a429c696-1cfa-4bf0-a4d6-e3042ea7b5fd",
   "metadata": {},
   "outputs": [
    {
     "name": "stdout",
     "output_type": "stream",
     "text": [
      "1 \n",
      "3 2 \n",
      "6 5 4 \n",
      "10 9 8 7 \n"
     ]
    }
   ],
   "source": [
    "start=1\n",
    "stop=2\n",
    "current_num = stop\n",
    "\n",
    "for i in range(2, 6):\n",
    "    for j in range(start, stop): \n",
    "        current_num -=1\n",
    "        print(current_num, end=' ')\n",
    "    print()\n",
    "    start = stop        #2, 4\n",
    "    stop += i           #2+2=4, 4+3=7\n",
    "    current_num = stop  # 4, 7"
   ]
  }
 ],
 "metadata": {
  "kernelspec": {
   "display_name": "Python 3 (ipykernel)",
   "language": "python",
   "name": "python3"
  },
  "language_info": {
   "codemirror_mode": {
    "name": "ipython",
    "version": 3
   },
   "file_extension": ".py",
   "mimetype": "text/x-python",
   "name": "python",
   "nbconvert_exporter": "python",
   "pygments_lexer": "ipython3",
   "version": "3.10.9"
  }
 },
 "nbformat": 4,
 "nbformat_minor": 5
}
