{
 "cells": [
  {
   "cell_type": "code",
   "execution_count": 108,
   "id": "7ba3d2f7",
   "metadata": {},
   "outputs": [
    {
     "name": "stdout",
     "output_type": "stream",
     "text": [
      "Enter the number for factorial computation:10\n",
      "Factorial of 10 is: 3628800\n"
     ]
    }
   ],
   "source": [
    "#WAP to compute the factorial of a number. take input from the user.\n",
    "number= int(input(\"Enter the number for factorial computation:\"))\n",
    "fact=1\n",
    "n=1\n",
    "while (n<=number):\n",
    "    fact=fact *n\n",
    "    n+=1\n",
    "    \n",
    "    #number-=1\n",
    "\n",
    "print(\"Factorial of\",number,\"is:\" ,fact)"
   ]
  },
  {
   "cell_type": "code",
   "execution_count": null,
   "id": "67eea879",
   "metadata": {},
   "outputs": [],
   "source": [
    "#WAP to find the number of digits in a user given number\n",
    "number = float(input(\"Enter a number:\"))\n",
    "n =0\n",
    "if (number<0):\n",
    "    number=(number*-1)\n",
    "while (number>0):\n",
    "        number= (number//10)\n",
    "        n+=1\n",
    "print(\"This number has\",n,\"digits\")"
   ]
  },
  {
   "cell_type": "code",
   "execution_count": null,
   "id": "8c1ebdd7",
   "metadata": {},
   "outputs": [],
   "source": []
  },
  {
   "cell_type": "code",
   "execution_count": null,
   "id": "83f5e49b",
   "metadata": {},
   "outputs": [],
   "source": []
  }
 ],
 "metadata": {
  "kernelspec": {
   "display_name": "Python 3 (ipykernel)",
   "language": "python",
   "name": "python3"
  },
  "language_info": {
   "codemirror_mode": {
    "name": "ipython",
    "version": 3
   },
   "file_extension": ".py",
   "mimetype": "text/x-python",
   "name": "python",
   "nbconvert_exporter": "python",
   "pygments_lexer": "ipython3",
   "version": "3.10.9"
  }
 },
 "nbformat": 4,
 "nbformat_minor": 5
}
